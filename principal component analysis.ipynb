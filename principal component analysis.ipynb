{
 "cells": [
  {
   "cell_type": "markdown",
   "metadata": {},
   "source": [
    "# principal component analysis"
   ]
  },
  {
   "cell_type": "markdown",
   "metadata": {},
   "source": [
    "\n",
    "pca is an unsupervised linear transformation technique widely used for 'feature extration' and 'dimenstionality redution'\n",
    "other appications of pca include 'exploratory ada analaysis', 'De-noising signals in stock market trading' etc..,\n"
   ]
  },
  {
   "cell_type": "raw",
   "metadata": {},
   "source": [
    "1..why would you want to use pca?\n",
    "answer:- \n",
    "    To reduce the no of dimensions or columns"
   ]
  },
  {
   "cell_type": "raw",
   "metadata": {},
   "source": [
    "2. why would you want to reduce your data dimensionality\n",
    " answers:-\n",
    "        1.feature extration-\n",
    "                        instend of using so many features or columns for training,you would want to use only a few features\n",
    "                        that contain almost the same amount of information of the original set of features\n",
    "        2.storage-\n",
    "                        to reduce the storage space requried for the datasets\n",
    "        3.visualization-\n",
    "                            to visualize the information in high dimensional data in only 2-3 dimentions"
   ]
  },
  {
   "cell_type": "raw",
   "metadata": {},
   "source": [
    "3.what is pricipal component means?\n",
    "answer-\n",
    "        pca takes the data,and identifies the directions in iwhich tha data has maximum variance\n",
    "         and pricipal components r perpenduclur to each other.\n",
    "         \n",
    "         \n",
    "         or \n",
    "         \n",
    "        you  can think of principal components as the base vectors(preferrably orthogonal) which can be combined \n",
    "        in certain proportions to produce all the data items in the given data."
   ]
  },
  {
   "cell_type": "code",
   "execution_count": null,
   "metadata": {},
   "outputs": [],
   "source": []
  }
 ],
 "metadata": {
  "kernelspec": {
   "display_name": "Python 3",
   "language": "python",
   "name": "python3"
  },
  "language_info": {
   "codemirror_mode": {
    "name": "ipython",
    "version": 3
   },
   "file_extension": ".py",
   "mimetype": "text/x-python",
   "name": "python",
   "nbconvert_exporter": "python",
   "pygments_lexer": "ipython3",
   "version": "3.7.6"
  }
 },
 "nbformat": 4,
 "nbformat_minor": 4
}
